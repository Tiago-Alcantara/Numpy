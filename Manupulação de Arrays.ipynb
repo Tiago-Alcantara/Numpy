{
 "cells": [
  {
   "attachments": {},
   "cell_type": "markdown",
   "metadata": {},
   "source": [
    "# Mundo 5"
   ]
  },
  {
   "cell_type": "code",
   "execution_count": 2,
   "metadata": {},
   "outputs": [],
   "source": [
    "import numpy as np"
   ]
  },
  {
   "cell_type": "code",
   "execution_count": 3,
   "metadata": {},
   "outputs": [
    {
     "name": "stdout",
     "output_type": "stream",
     "text": [
      "[20 21 22 23 24  0  1  2  3  4  5  6  7  8  9 10 11 12 13 14]\n"
     ]
    }
   ],
   "source": [
    "#Juntar dois Arrays\n",
    "\n",
    "array1 = np.arange(20,25)\n",
    "array2 = np.arange(15)\n",
    "\n",
    "array_completo = np.concatenate([array1,array2])\n",
    "\n",
    "\n",
    "print(array_completo)"
   ]
  },
  {
   "cell_type": "code",
   "execution_count": 4,
   "metadata": {},
   "outputs": [
    {
     "name": "stdout",
     "output_type": "stream",
     "text": [
      "[20 21 22 23 24]\n",
      "[ 0  1  2  3  4  5  6  7  8  9 10 11 12 13 14]\n"
     ]
    }
   ],
   "source": [
    "#Separando em dois Arrays\n",
    "\n",
    "array_separado1,array_separado2 = np.split(array_completo,[5])\n",
    "\n",
    "print(array_separado1)\n",
    "print(array_separado2)"
   ]
  },
  {
   "cell_type": "code",
   "execution_count": 5,
   "metadata": {},
   "outputs": [
    {
     "name": "stdout",
     "output_type": "stream",
     "text": [
      "[  20   21   22   23   24    0    1    2    3    4    5    6    7    8\n",
      "    9   10   11   12   13   14 2000]\n",
      "[  20   21   22 3000   23   24    0    1    2    3    4    5    6    7\n",
      "    8    9   10   11   12   13   14 2000]\n"
     ]
    }
   ],
   "source": [
    "#colocar novos dados em um array \n",
    "\n",
    "array_completo = np.append(array_completo,2000)\n",
    "\n",
    "print(array_completo)\n",
    "\n",
    "array_completo = np.insert(array_completo,3,3000)\n",
    "\n",
    "print(array_completo)\n",
    "\n"
   ]
  },
  {
   "cell_type": "code",
   "execution_count": 13,
   "metadata": {},
   "outputs": [
    {
     "name": "stdout",
     "output_type": "stream",
     "text": [
      "[  20   21   22 3000   23   24    0    1    2    3    4    5    6    7\n",
      "    8    9   10   11   12   13   14]\n"
     ]
    }
   ],
   "source": [
    "#deletar dados do array\n",
    "\n",
    "array_completo = np.delete(array_completo,-1)\n",
    "\n",
    "print(array_completo)"
   ]
  },
  {
   "cell_type": "code",
   "execution_count": 12,
   "metadata": {},
   "outputs": [
    {
     "name": "stdout",
     "output_type": "stream",
     "text": [
      "[[0 1 2]\n",
      " [3 4 5]\n",
      " [6 7 8]]\n"
     ]
    }
   ],
   "source": [
    "# reshape\n",
    "\n",
    "array_3x3 = np.arange(9).reshape(3,3)# util para fazer regressão linear\n",
    "\n",
    "print(array_3x3)"
   ]
  },
  {
   "cell_type": "code",
   "execution_count": 14,
   "metadata": {},
   "outputs": [
    {
     "name": "stdout",
     "output_type": "stream",
     "text": [
      "[ True  True  True  True  True  True  True  True  True  True  True False\n",
      " False False]\n",
      "[  0   0   0   0   0   0   0   0   0   0   0 675  74 465]\n"
     ]
    }
   ],
   "source": [
    "#trocando numeros dentro de uma condição\n",
    "array_inicial = np.array([4, 4, 4, 4, 7, 6, 5, 32, 13, 2, 32, 675, 74, 465])\n",
    "\n",
    "#como trocar todos os numeros menos que 40 por 0\n",
    "\n",
    "array_booleano = (array_inicial < 40)\n",
    "print(array_booleano)\n",
    "\n",
    "array_inicial[array_booleano] = 0\n",
    "\n",
    "print(array_inicial)\n"
   ]
  },
  {
   "cell_type": "code",
   "execution_count": 15,
   "metadata": {},
   "outputs": [
    {
     "name": "stdout",
     "output_type": "stream",
     "text": [
      "[    3     5    20   349  2349 12490 23109] [23109 12490  2349   349    20     5     3]\n"
     ]
    }
   ],
   "source": [
    "#ordenar objetos dentro de uma lista\n",
    "\n",
    "array_desordenado = np.array([23109, 2349, 349, 20, 3, 5, 12490])\n",
    "\n",
    "array_crescente = np.sort(array_desordenado)\n",
    "\n",
    "array_decrescente = -np.sort(-array_desordenado)\n",
    "\n",
    "print(array_crescente, array_decrescente)"
   ]
  },
  {
   "attachments": {},
   "cell_type": "markdown",
   "metadata": {},
   "source": [
    "# Exercício\n",
    "\n",
    "* Exercício 34: Peça ao usuário digitar o lucro da Petrobras, Vale e Weg. Mostre os lucros em ordem do maior pro menor. (Utilize arrays e ferramentas como append, np.sort, etc)"
   ]
  },
  {
   "cell_type": "code",
   "execution_count": 17,
   "metadata": {},
   "outputs": [
    {
     "name": "stdout",
     "output_type": "stream",
     "text": [
      "Lucro crescente[10. 20. 30.], Lucros juntas[60.]\n"
     ]
    }
   ],
   "source": [
    "#exercio 34\n",
    "\n",
    "lucro_petro = float(input(\"Digite o lucro da Petrobras\"))\n",
    "lucro_vale = float(input(\"Digite o lucro da Vale\"))\n",
    "lucro_weg = float(input(\"Digite o lucro da Weg\"))\n",
    "\n",
    "lucros = np.array([lucro_petro,lucro_vale,lucro_weg])\n",
    "\n",
    "lucros_crescente = -np.sort(-lucros)\n",
    "\n",
    "lucros_juntas = np.array([(lucro_petro + lucro_vale + lucro_weg)])\n",
    "\n",
    "print(f\"Lucro crescente{lucros_crescente}, Lucros juntas{lucros_juntas}\")"
   ]
  },
  {
   "cell_type": "code",
   "execution_count": 18,
   "metadata": {},
   "outputs": [
    {
     "name": "stdout",
     "output_type": "stream",
     "text": [
      "Lucro das empresas, do maior para menor:[30. 20. 10.]\n"
     ]
    }
   ],
   "source": [
    "#outra forma de resolver porem com mais sofisticação\n",
    "\n",
    "empresas = np.array([\"Petrobras\",\"Vale\",\"Petrobras\"])\n",
    "\n",
    "array_lucros = np.array([])\n",
    "\n",
    "for empresa in empresas:\n",
    "    lucro = float(input(f\"Digite o Lucro da {empresa}: \"))\n",
    "    array_lucros = np.append(array_lucros,lucro)\n",
    "\n",
    "array_lucros = -np.sort(-array_lucros)\n",
    "\n",
    "print(f\"Lucro das empresas, do maior para menor:{array_lucros}\")"
   ]
  }
 ],
 "metadata": {
  "kernelspec": {
   "display_name": "Python 3",
   "language": "python",
   "name": "python3"
  },
  "language_info": {
   "codemirror_mode": {
    "name": "ipython",
    "version": 3
   },
   "file_extension": ".py",
   "mimetype": "text/x-python",
   "name": "python",
   "nbconvert_exporter": "python",
   "pygments_lexer": "ipython3",
   "version": "3.10.4"
  },
  "orig_nbformat": 4,
  "vscode": {
   "interpreter": {
    "hash": "c833dfc047c4516882787f5aa527e056a926718dafde6b3a550de5aeaac3c19a"
   }
  }
 },
 "nbformat": 4,
 "nbformat_minor": 2
}
