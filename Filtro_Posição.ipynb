{
 "cells": [
  {
   "attachments": {},
   "cell_type": "markdown",
   "metadata": {},
   "source": [
    "# aula 4"
   ]
  },
  {
   "cell_type": "code",
   "execution_count": 4,
   "metadata": {},
   "outputs": [],
   "source": [
    "import numpy as np"
   ]
  },
  {
   "cell_type": "code",
   "execution_count": 5,
   "metadata": {},
   "outputs": [],
   "source": [
    "vetor = np.array([1, 2, 3, 4, 5, 6, 7, 8, 9])\n",
    "\n",
    "vetor2d = np.array([[1, 2, 3], [4, 5, 6], [7, 8, 9]])"
   ]
  },
  {
   "cell_type": "code",
   "execution_count": 6,
   "metadata": {},
   "outputs": [
    {
     "name": "stdout",
     "output_type": "stream",
     "text": [
      "1\n",
      "[1 2]\n",
      "9\n",
      "7\n",
      "2\n"
     ]
    }
   ],
   "source": [
    "#posições\n",
    "print(vetor[0])\n",
    "\n",
    "print(vetor[0:2])\n",
    "\n",
    "print(vetor[-1])\n",
    "\n",
    "print(vetor2d[2][0])\n",
    "print(vetor2d[0][1])"
   ]
  },
  {
   "cell_type": "code",
   "execution_count": 7,
   "metadata": {},
   "outputs": [
    {
     "name": "stdout",
     "output_type": "stream",
     "text": [
      "[6 7 8 9]\n",
      "[2 4 6 8]\n",
      "[5]\n",
      "[4 5 6 7]\n"
     ]
    }
   ],
   "source": [
    "#filtrando dados\n",
    "\n",
    "maior_que_5 = vetor[vetor > 5]\n",
    "\n",
    "somente_par = vetor[vetor % 2 ==0 ]\n",
    "\n",
    "igual_a_5 = vetor[vetor == 5]\n",
    "\n",
    "maior_que_3_menor_que_8 = vetor[(vetor > 3)&(vetor < 8)]\n",
    "\n",
    "\n",
    "print(maior_que_5)\n",
    "print(somente_par)\n",
    "print(igual_a_5)\n",
    "print(maior_que_3_menor_que_8)"
   ]
  },
  {
   "attachments": {},
   "cell_type": "markdown",
   "metadata": {},
   "source": [
    "# Exercício\n",
    "\n",
    "* Exercício 33: Faça um programa que gere um vetor de retornos positivos ou negativos entre -1 e 1 na quantidade de dias que o usuário escolher. Devolva um vetor dos retornos positivos, o primeiro e o último retorno."
   ]
  },
  {
   "cell_type": "code",
   "execution_count": 19,
   "metadata": {},
   "outputs": [
    {
     "name": "stdout",
     "output_type": "stream",
     "text": [
      "[-0.97538297  0.61298863  0.86337004 -0.25144418]\n",
      "[0.61298863 0.86337004]\n",
      "-0.9753829674602048 -0.25144417833842225\n"
     ]
    }
   ],
   "source": [
    "lista_de_retornos = int(input(\"quantos retornos irão ter\"))\n",
    "\n",
    "lista = []\n",
    "\n",
    "numero_sortido = np.random.uniform(-1,1,(lista_de_retornos))\n",
    "lista = np.array(numero_sortido)\n",
    "\n",
    "\n",
    "print(lista)\n",
    "print(lista[lista > 0])\n",
    "print(lista[0],lista[-1])"
   ]
  },
  {
   "cell_type": "markdown",
   "metadata": {},
   "source": []
  }
 ],
 "metadata": {
  "kernelspec": {
   "display_name": "Python 3",
   "language": "python",
   "name": "python3"
  },
  "language_info": {
   "codemirror_mode": {
    "name": "ipython",
    "version": 3
   },
   "file_extension": ".py",
   "mimetype": "text/x-python",
   "name": "python",
   "nbconvert_exporter": "python",
   "pygments_lexer": "ipython3",
   "version": "3.10.4"
  },
  "orig_nbformat": 4,
  "vscode": {
   "interpreter": {
    "hash": "c833dfc047c4516882787f5aa527e056a926718dafde6b3a550de5aeaac3c19a"
   }
  }
 },
 "nbformat": 4,
 "nbformat_minor": 2
}
