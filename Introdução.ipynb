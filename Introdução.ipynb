{
 "cells": [
  {
   "attachments": {},
   "cell_type": "markdown",
   "metadata": {},
   "source": [
    "### Primeira aula Numpy"
   ]
  },
  {
   "cell_type": "code",
   "execution_count": 2,
   "metadata": {},
   "outputs": [],
   "source": [
    "import numpy as np"
   ]
  },
  {
   "cell_type": "code",
   "execution_count": 3,
   "metadata": {},
   "outputs": [
    {
     "data": {
      "text/plain": [
       "array([1, 2, 3, 4])"
      ]
     },
     "execution_count": 3,
     "metadata": {},
     "output_type": "execute_result"
    }
   ],
   "source": [
    "#criar um array\n",
    "\n",
    "lista = [1,2,3,4]\n",
    "\n",
    "tupla = (1,2,3,4)\n",
    "\n",
    "array_a_partir_de_lista = np.array(lista)\n",
    "array_a_partir_de_tupla = np.array(tupla)\n",
    "\n",
    "array_a_partir_de_lista"
   ]
  },
  {
   "cell_type": "code",
   "execution_count": 4,
   "metadata": {},
   "outputs": [
    {
     "data": {
      "text/plain": [
       "(array([0, 1, 2, 3, 4, 5, 6, 7, 8, 9]),\n",
       " array([10, 20, 30, 40, 50, 60, 70, 80, 90]))"
      ]
     },
     "execution_count": 4,
     "metadata": {},
     "output_type": "execute_result"
    }
   ],
   "source": [
    "#usando um range \n",
    "\n",
    "array_simples = np.arange(10)\n",
    "\n",
    "array_sequencial = np.arange(10,100,10)\n",
    "\n",
    "array_simples,array_sequencial"
   ]
  },
  {
   "cell_type": "code",
   "execution_count": 5,
   "metadata": {},
   "outputs": [
    {
     "data": {
      "text/plain": [
       "(array([0., 0., 0., 0., 0.]), array([1., 1., 1., 1., 1.]))"
      ]
     },
     "execution_count": 5,
     "metadata": {},
     "output_type": "execute_result"
    }
   ],
   "source": [
    "#criando arrays de zeros ou ums\n",
    "\n",
    "vetor_zero = np.zeros(5)\n",
    "\n",
    "vetor_um = np.ones(5)\n",
    "\n",
    "vetor_zero, vetor_um"
   ]
  },
  {
   "cell_type": "code",
   "execution_count": 12,
   "metadata": {},
   "outputs": [
    {
     "name": "stdout",
     "output_type": "stream",
     "text": [
      "[[0.38465807 0.9288602 ]\n",
      " [0.7098293  0.73909205]\n",
      " [0.89726866 0.11654698]]\n",
      "[2 0 6]\n",
      "[ 0.49062601 -0.6960044  -1.30949267]\n"
     ]
    }
   ],
   "source": [
    "#criando vetores aleatorios\n",
    "\n",
    "vetor_aleatorio_entre_0_1 = np.random.rand(3,2)\n",
    "vetor_aleatorio_inteiro = np.random.randint(low = 0, high = 10 , size = 3)\n",
    "vetor_aleatorio_com_negativos = np.random.uniform(-2,2,3)\n",
    "\n",
    "\n",
    "print(vetor_aleatorio_entre_0_1)\n",
    "print(vetor_aleatorio_inteiro)\n",
    "print(vetor_aleatorio_com_negativos)\n",
    "\n",
    "\n"
   ]
  },
  {
   "cell_type": "code",
   "execution_count": 13,
   "metadata": {},
   "outputs": [
    {
     "data": {
      "text/plain": [
       "(array([[1, 2, 3],\n",
       "        [4, 5, 6]]),\n",
       " array([[1, 2, 3],\n",
       "        [4, 5, 6],\n",
       "        [7, 8, 9]]))"
      ]
     },
     "execution_count": 13,
     "metadata": {},
     "output_type": "execute_result"
    }
   ],
   "source": [
    "#criando arrays bi ou tridimensionais\n",
    "\n",
    "lista1 = [1,2,3]\n",
    "lista2 = [4,5,6]\n",
    "lista3 = [7,8,9]\n",
    "\n",
    "array2d = np.array([lista1,lista2])\n",
    "\n",
    "array3d = np. array([lista1,lista2,lista3])\n",
    "\n",
    "array2d,array3d"
   ]
  },
  {
   "cell_type": "code",
   "execution_count": 14,
   "metadata": {},
   "outputs": [
    {
     "data": {
      "text/plain": [
       "matrix([[20, 30],\n",
       "        [90, 80]])"
      ]
     },
     "execution_count": 14,
     "metadata": {},
     "output_type": "execute_result"
    }
   ],
   "source": [
    "#criando matrizes\n",
    "\n",
    "matriz = np. matrix([[20,30],[90,80]])\n",
    "\n",
    "matriz"
   ]
  },
  {
   "cell_type": "code",
   "execution_count": 15,
   "metadata": {},
   "outputs": [
    {
     "name": "stdout",
     "output_type": "stream",
     "text": [
      "[1, 1, 1, 1, 1, 1, 1, 1]\n",
      "[2 2 2 2]\n"
     ]
    }
   ],
   "source": [
    "#listas x numpy\n",
    "\n",
    "lista_1 = [1,1,1,1]\n",
    "lista_2 = [1,1,1,1]\n",
    "\n",
    "\n",
    "print(lista_1 + lista_2)\n",
    "print(np.array(lista_1) + np.array(lista_2))\n"
   ]
  },
  {
   "cell_type": "code",
   "execution_count": 21,
   "metadata": {},
   "outputs": [
    {
     "name": "stdout",
     "output_type": "stream",
     "text": [
      "0.010131900082342327 0.000741399941034615\n",
      "os vetorores sao13.665903544857823 vezes mais rapidos.\n"
     ]
    }
   ],
   "source": [
    "#teste lista x numpy\n",
    "\n",
    "import timeit\n",
    "\n",
    "\n",
    "#listas\n",
    "\n",
    "tempo_listas = timeit.timeit('''X= range(1000); Y = range(1000); [X[i] + Y[i] for i in range(len(X))]''',number = 100)\n",
    "\n",
    "tempo_vetor = timeit.timeit('''X= np.arange(1000); Y = np.arange(1000); X + Y ''',number = 100,setup=\"import numpy as np\")\n",
    "\n",
    "\n",
    "print(tempo_listas, tempo_vetor)\n",
    "print(f\"os vetorores sao{tempo_listas/tempo_vetor} vezes mais rapidos.\")"
   ]
  },
  {
   "attachments": {},
   "cell_type": "markdown",
   "metadata": {},
   "source": [
    "# Exercícios\n",
    "\n",
    "* Exercício 30: Peça pro usuário inputar a cotação de 3 ações. Crie um array de cotações.\n",
    "* Exercício 31: Peça pro usuário digitar dois números no programa e crie um arrange sequencial entre esse números.\n",
    "* Exercício 32: Crie um programa que gere numeros aleatórios inteiros entre 0 e 60 e devolva 6 números da mega sena pro usuário. Depois, exiba uma probabilidade aleatória de o usuário sair vencedor. Garanta que sejam 6 números diferentes!"
   ]
  },
  {
   "cell_type": "code",
   "execution_count": 38,
   "metadata": {},
   "outputs": [
    {
     "name": "stdout",
     "output_type": "stream",
     "text": [
      "Me diga 3 Ações\n",
      "['10' '20' '30']\n"
     ]
    }
   ],
   "source": [
    "#exercício 30\n",
    "\n",
    "print(\"Me diga 3 Ações\")\n",
    "\n",
    "Ação_1 = input(\"1º ação\")\n",
    "Ação_2 = input(\"2º ação\")\n",
    "Ação_3 = input(\"3º ação\")\n",
    "\n",
    "array_cotação = np.array([Ação_1,Ação_2,Ação_3])\n",
    "print(array_cotação)\n"
   ]
  },
  {
   "cell_type": "code",
   "execution_count": 36,
   "metadata": {},
   "outputs": [
    {
     "name": "stdout",
     "output_type": "stream",
     "text": [
      "[  1   3   5   7   9  11  13  15  17  19  21  23  25  27  29  31  33  35\n",
      "  37  39  41  43  45  47  49  51  53  55  57  59  61  63  65  67  69  71\n",
      "  73  75  77  79  81  83  85  87  89  91  93  95  97  99 101 103 105 107\n",
      " 109 111 113 115 117 119 121 123 125 127 129 131 133 135 137 139 141 143\n",
      " 145 147 149 151 153 155 157 159 161 163 165 167 169 171 173 175 177 179\n",
      " 181 183 185 187 189 191 193 195 197 199 201 203 205 207 209 211 213 215\n",
      " 217 219 221 223 225 227 229 231 233 235 237 239 241 243 245 247 249 251\n",
      " 253 255 257 259 261 263 265 267 269 271 273 275 277 279 281 283 285 287\n",
      " 289 291 293 295 297 299 301 303 305 307 309 311 313 315 317 319 321 323\n",
      " 325 327 329 331 333 335 337 339 341 343 345 347 349 351 353 355 357 359\n",
      " 361 363 365 367 369 371 373 375 377 379 381 383 385 387 389 391 393 395\n",
      " 397 399 401 403 405 407 409 411 413 415 417 419 421 423 425 427 429 431\n",
      " 433 435 437 439 441 443 445 447 449 451 453 455 457 459 461 463 465 467\n",
      " 469 471 473 475 477 479 481 483 485 487 489 491 493 495 497 499 501 503\n",
      " 505 507 509 511 513 515 517 519 521 523 525 527 529 531 533 535 537 539\n",
      " 541 543 545 547 549 551 553 555 557 559 561 563 565 567 569 571 573 575\n",
      " 577 579 581 583 585 587 589 591 593 595 597 599 601 603 605 607 609 611\n",
      " 613 615 617 619 621 623 625 627 629 631 633 635 637 639 641 643 645 647\n",
      " 649 651 653 655 657 659 661 663 665 667 669 671 673 675 677 679 681 683\n",
      " 685 687 689 691 693 695 697 699 701 703 705 707 709 711 713 715 717 719\n",
      " 721 723 725 727 729 731 733 735 737 739 741 743 745 747 749 751 753 755\n",
      " 757 759 761 763 765 767 769 771 773 775 777 779 781 783 785 787 789 791\n",
      " 793 795 797 799 801 803 805 807 809 811 813 815 817 819 821 823 825 827\n",
      " 829 831 833 835 837 839 841 843 845 847 849 851 853 855 857 859 861 863\n",
      " 865 867 869 871 873 875 877 879 881 883 885 887 889 891 893 895 897 899\n",
      " 901 903 905 907 909 911 913 915 917 919 921 923 925 927 929 931 933 935\n",
      " 937 939 941 943 945 947 949 951 953 955 957 959 961 963 965 967 969 971\n",
      " 973 975 977 979 981 983 985 987 989 991 993 995 997 999]\n"
     ]
    }
   ],
   "source": [
    "#exercio 31\n",
    "inicio = input(\"digite um numero qualquer para iniciar o loop\")\n",
    "fim = input(\"digite um numerr para terminar o loop\")\n",
    "\n",
    "resultado = np.arange(float(inicio),float(fim),2)\n",
    "\n",
    "print(resultado)"
   ]
  },
  {
   "cell_type": "code",
   "execution_count": 39,
   "metadata": {},
   "outputs": [
    {
     "name": "stdout",
     "output_type": "stream",
     "text": [
      "numeros sorteados[8, 40, 23, 14, 34, 48]\n",
      "probabilidade 0.7875632130446723\n"
     ]
    }
   ],
   "source": [
    "#exercio 32 \n",
    "numeros_aleatorios= []\n",
    "\n",
    "numeros_aleatorios.append(np.random.randint(low = 0, high = 60,size = 1)[0])\n",
    "\n",
    "while len(numeros_aleatorios)<6:\n",
    "    mega_sena = np.random.randint(0,60,1)\n",
    "\n",
    "    if mega_sena not in numeros_aleatorios:\n",
    "        numeros_aleatorios.append(mega_sena[0])\n",
    "\n",
    "probabilidade = np.random.uniform(0,1)\n",
    "\n",
    "print(f\"numeros sorteados{numeros_aleatorios}\")\n",
    "print(f\"probabilidade {probabilidade}\")"
   ]
  },
  {
   "cell_type": "code",
   "execution_count": null,
   "metadata": {},
   "outputs": [],
   "source": []
  },
  {
   "cell_type": "code",
   "execution_count": null,
   "metadata": {},
   "outputs": [],
   "source": []
  }
 ],
 "metadata": {
  "kernelspec": {
   "display_name": "Python 3",
   "language": "python",
   "name": "python3"
  },
  "language_info": {
   "codemirror_mode": {
    "name": "ipython",
    "version": 3
   },
   "file_extension": ".py",
   "mimetype": "text/x-python",
   "name": "python",
   "nbconvert_exporter": "python",
   "pygments_lexer": "ipython3",
   "version": "3.10.4"
  },
  "orig_nbformat": 4,
  "vscode": {
   "interpreter": {
    "hash": "c833dfc047c4516882787f5aa527e056a926718dafde6b3a550de5aeaac3c19a"
   }
  }
 },
 "nbformat": 4,
 "nbformat_minor": 2
}
