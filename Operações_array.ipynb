{
 "cells": [
  {
   "attachments": {},
   "cell_type": "markdown",
   "metadata": {},
   "source": [
    "# Aula 6"
   ]
  },
  {
   "cell_type": "code",
   "execution_count": 1,
   "metadata": {},
   "outputs": [],
   "source": [
    "import numpy as np"
   ]
  },
  {
   "cell_type": "code",
   "execution_count": 4,
   "metadata": {},
   "outputs": [
    {
     "name": "stdout",
     "output_type": "stream",
     "text": [
      "[5 3 7 3]\n",
      "[1, 1, 1, 1, 4, 2, 6, 2]\n"
     ]
    }
   ],
   "source": [
    "#Todas as operações funcionam com os vetores\n",
    "\n",
    "array1 = np.array([1, 1, 1, 1])\n",
    "array2 = np.array([4, 2, 6, 2])\n",
    "array3 = np.array([2, 2])\n",
    "\n",
    "\n",
    "lista_normal = [1,1,1,1]\n",
    "lista_normal2 = [4,2,6,2]\n",
    "\n",
    "print(array1 + array2)\n",
    "print(lista_normal + lista_normal2)"
   ]
  },
  {
   "cell_type": "code",
   "execution_count": 6,
   "metadata": {},
   "outputs": [
    {
     "name": "stdout",
     "output_type": "stream",
     "text": [
      "[21 21 21 21]\n"
     ]
    }
   ],
   "source": [
    "#E se eu quiser somar um número só?\n",
    "\n",
    "soma_a_todos_os_elementos = np.array([1,1,1,1]) + 20\n",
    "\n",
    "print(soma_a_todos_os_elementos)"
   ]
  },
  {
   "cell_type": "code",
   "execution_count": 8,
   "metadata": {},
   "outputs": [
    {
     "name": "stdout",
     "output_type": "stream",
     "text": [
      "[-3 -1 -5 -1]\n",
      "[0.25       0.5        0.16666667 0.5       ]\n",
      "[4 2 6 2]\n",
      "[1 1 1 1]\n"
     ]
    }
   ],
   "source": [
    "#Todas as operações funcionam normal\n",
    "subtração = array1 - array2\n",
    "divisao = array1/array2\n",
    "multiplicacao = array1 * array2\n",
    "exponenciacao = array1 ** array2\n",
    "\n",
    "print(subtração)\n",
    "print(divisao)\n",
    "print(multiplicacao)\n",
    "print(exponenciacao)"
   ]
  },
  {
   "cell_type": "code",
   "execution_count": 9,
   "metadata": {},
   "outputs": [
    {
     "name": "stdout",
     "output_type": "stream",
     "text": [
      "[ 1  4 -4 -1  2]\n",
      "2\n",
      "4\n",
      "-4\n",
      "[1 4 4 1 2]\n"
     ]
    }
   ],
   "source": [
    "#operaçoes dentro do vetor\n",
    "vetor = np.array([1,4,-4,-1,2])\n",
    "\n",
    "print(vetor)\n",
    "print(vetor.sum())\n",
    "print(vetor.max())\n",
    "print(vetor.min())\n",
    "print(np.abs(vetor))\n"
   ]
  },
  {
   "cell_type": "code",
   "execution_count": 10,
   "metadata": {},
   "outputs": [
    {
     "name": "stdout",
     "output_type": "stream",
     "text": [
      "401.0\n",
      "1.0\n",
      "799.56938410622\n",
      "639311.2\n"
     ]
    }
   ],
   "source": [
    "#Estatisticas descritivas\n",
    "\n",
    "vetor = np.array([1, 20, -4, -12, 2000])\n",
    "\n",
    "media = np.mean(vetor)\n",
    "mediana = np.median(vetor)\n",
    "desvio_p = np.std(vetor)\n",
    "var = np.var(vetor)\n",
    "\n",
    "print(media)#media\n",
    "print(mediana)#mediana\n",
    "print(desvio_p)#desvio padrão\n",
    "print(var)#variancia\n",
    "\n"
   ]
  },
  {
   "cell_type": "code",
   "execution_count": 11,
   "metadata": {},
   "outputs": [
    {
     "name": "stdout",
     "output_type": "stream",
     "text": [
      "[[ 1.          0.25471058 -0.13247913]\n",
      " [ 0.25471058  1.          0.76783876]\n",
      " [-0.13247913  0.76783876  1.        ]]\n"
     ]
    }
   ],
   "source": [
    "#matriz de correlação\n",
    "\n",
    "vetor2 = np.array([5, 4, 3, -5, 4])\n",
    "vetor3 = np.array([2, 6, 7, -5, 1])\n",
    "\n",
    "print(np.corrcoef((vetor,vetor2,vetor3)))\n"
   ]
  },
  {
   "attachments": {},
   "cell_type": "markdown",
   "metadata": {},
   "source": [
    "# Exercício\n",
    "\n",
    "* Exercício 35: Faça um programa que o usuário digite a rentabilidade de ações, com quantas ações o usuário quiser. Transforme essas listas em arrays e devolva pro usuário:\n",
    "\n",
    "        A média de rentabilidade da carteira.\n",
    "        O Desvio padrão da carteira.\n",
    "        A mediana de retornos da carteira.\n",
    "        O maior retorno.\n",
    "        O menor retorno."
   ]
  },
  {
   "cell_type": "code",
   "execution_count": 24,
   "metadata": {},
   "outputs": [
    {
     "name": "stdout",
     "output_type": "stream",
     "text": [
      "Bom Dia, Vamos fazer a analise da carteira\n",
      "A média de rentabilidade da carteira : 10.0\n",
      "O Desvio padrão da carteira: 0.0\n",
      "A mediana de retornos da carteira: 10.0\n",
      "O maior retorno: 10.0\n",
      "O menor retorno:10.0\n"
     ]
    }
   ],
   "source": [
    "#exercicio \n",
    "Carteira_acoes = np.array([])\n",
    "print(\"Bom Dia, Vamos fazer a analise da carteira\")\n",
    "resposta = input(\"Gostaria de fazer uma consulta [S/N]?\")\n",
    "\n",
    "while resposta != \"N\" or resposta != \"n\":\n",
    "    if resposta == \"S\" or resposta == \"s\":\n",
    "        rentabilidade = float(input(\"Digite a rentabilidade da Ação\"))\n",
    "        Carteira_acoes= np.append(Carteira_acoes,rentabilidade)\n",
    "    elif resposta == \"N\" or resposta == \"n\":\n",
    "        break\n",
    "    else:\n",
    "        print(\"Não entedi pode repetir\")\n",
    "\n",
    "    resposta = input(\"Gostaria de fazer um novo registro [S/N]?\")\n",
    "    \n",
    "media_carteira = np.mean(Carteira_acoes)\n",
    "desvio_carteira = np.std(Carteira_acoes)\n",
    "mediana_carteira = np.median(Carteira_acoes)\n",
    "maior_retorno = Carteira_acoes.max()\n",
    "menor_retorno = Carteira_acoes.min()\n",
    "\n",
    "\n",
    "print(f\"A média de rentabilidade da carteira : {media_carteira}\")\n",
    "print(f\"O Desvio padrão da carteira: {desvio_carteira}\")\n",
    "print(f\"A mediana de retornos da carteira: {mediana_carteira}\")\n",
    "print(f\"O maior retorno: {maior_retorno}\")\n",
    "print(f\"O menor retorno:{menor_retorno}\")"
   ]
  }
 ],
 "metadata": {
  "kernelspec": {
   "display_name": "Python 3",
   "language": "python",
   "name": "python3"
  },
  "language_info": {
   "codemirror_mode": {
    "name": "ipython",
    "version": 3
   },
   "file_extension": ".py",
   "mimetype": "text/x-python",
   "name": "python",
   "nbconvert_exporter": "python",
   "pygments_lexer": "ipython3",
   "version": "3.10.4"
  },
  "orig_nbformat": 4,
  "vscode": {
   "interpreter": {
    "hash": "c833dfc047c4516882787f5aa527e056a926718dafde6b3a550de5aeaac3c19a"
   }
  }
 },
 "nbformat": 4,
 "nbformat_minor": 2
}
